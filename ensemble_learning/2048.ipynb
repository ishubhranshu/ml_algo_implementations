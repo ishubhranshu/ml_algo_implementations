{
 "cells": [
  {
   "cell_type": "code",
   "execution_count": 13,
   "metadata": {},
   "outputs": [],
   "source": [
    "# import random\n",
    "# import os\n",
    "\n",
    "# def init_board():\n",
    "#     \"\"\"Initializes the game board with two random tiles.\"\"\"\n",
    "#     board = [[0] * 4 for _ in range(4)]\n",
    "#     add_random_tile(board)\n",
    "#     add_random_tile(board)\n",
    "#     return board\n",
    "\n",
    "# def add_random_tile(board):\n",
    "#     \"\"\"Adds a random tile (2 or 4) to an empty position on the board.\"\"\"\n",
    "#     empty_cells = [(r, c) for r in range(4) for c in range(4) if board[r][c] == 0]\n",
    "#     if not empty_cells:\n",
    "#         return\n",
    "#     r, c = random.choice(empty_cells)\n",
    "#     board[r][c] = random.choice([2, 4])\n",
    "\n",
    "# def print_board(board):\n",
    "#     \"\"\"Prints the board in a readable format.\"\"\"\n",
    "#     os.system('cls' if os.name == 'nt' else 'clear')\n",
    "#     for row in board:\n",
    "#         print(\"+----\" * 4 + \"+\")\n",
    "#         for tile in row:\n",
    "#             if tile == 0:\n",
    "#                 print(\"|    \", end=\"\")\n",
    "#             else:\n",
    "#                 print(f\"|{tile:^4}\", end=\"\")\n",
    "#         print(\"|\")\n",
    "#     print(\"+----\" * 4 + \"+\")\n",
    "\n",
    "# def merge_left(row):\n",
    "#     \"\"\"Merges tiles in a single row to the left.\"\"\"\n",
    "#     new_row = [tile for tile in row if tile != 0]\n",
    "#     for i in range(len(new_row) - 1):\n",
    "#         if new_row[i] == new_row[i + 1]:\n",
    "#             new_row[i] *= 2\n",
    "#             new_row[i + 1] = 0\n",
    "#     new_row = [tile for tile in new_row if tile != 0]\n",
    "#     return new_row + [0] * (4 - len(new_row))\n",
    "\n",
    "# def rotate_board(board):\n",
    "#     \"\"\"Rotates the board 90 degrees clockwise.\"\"\"\n",
    "#     return [list(reversed(col)) for col in zip(*board)]\n",
    "\n",
    "# def move_left(board):\n",
    "#     \"\"\"Moves all tiles to the left and merges them.\"\"\"\n",
    "#     return [merge_left(row) for row in board]\n",
    "\n",
    "# def move_right(board):\n",
    "#     \"\"\"Moves all tiles to the right and merges them.\"\"\"\n",
    "#     rotated = rotate_board(rotate_board(board))\n",
    "#     moved = move_left(rotated)\n",
    "#     return rotate_board(rotate_board(moved))\n",
    "\n",
    "# def move_up(board):\n",
    "#     \"\"\"Moves all tiles up and merges them.\"\"\"\n",
    "#     rotated = rotate_board(rotate_board(rotate_board(board)))\n",
    "#     moved = move_left(rotated)\n",
    "#     return rotate_board(moved)\n",
    "\n",
    "# def move_down(board):\n",
    "#     \"\"\"Moves all tiles down and merges them.\"\"\"\n",
    "#     rotated = rotate_board(board)\n",
    "#     moved = move_left(rotated)\n",
    "#     return rotate_board(rotate_board(rotate_board(moved)))\n",
    "\n",
    "# def check_game_over(board):\n",
    "#     \"\"\"Checks if there are no valid moves left (game over).\"\"\"\n",
    "#     if any(0 in row for row in board):\n",
    "#         return False\n",
    "#     for row in board:\n",
    "#         for i in range(3):\n",
    "#             if row[i] == row[i + 1]:\n",
    "#                 return False\n",
    "#     for col in zip(*board):\n",
    "#         for i in range(3):\n",
    "#             if col[i] == col[i + 1]:\n",
    "#                 return False\n",
    "#     return True\n",
    "\n",
    "# def main():\n",
    "#     board = init_board()\n",
    "#     print_board(board)\n",
    "    \n",
    "#     while True:\n",
    "#         move = input(\"Enter move (w/a/s/d): \").lower()\n",
    "#         if move not in 'wasd':\n",
    "#             print(\"Invalid move! Use 'w', 'a', 's', 'd' for up, left, down, and right.\")\n",
    "#             continue\n",
    "        \n",
    "#         if move == 'w':\n",
    "#             new_board = move_up(board)\n",
    "#         elif move == 'a':\n",
    "#             new_board = move_left(board)\n",
    "#         elif move == 's':\n",
    "#             new_board = move_down(board)\n",
    "#         elif move == 'd':\n",
    "#             new_board = move_right(board)\n",
    "        \n",
    "#         if new_board != board:\n",
    "#             board = new_board\n",
    "#             add_random_tile(board)\n",
    "#             print_board(board)\n",
    "#         else:\n",
    "#             print(\"Move not possible. Try again.\")\n",
    "        \n",
    "#         if check_game_over(board):\n",
    "#             print(\"Game Over!\")\n",
    "#             break\n",
    "\n",
    "# if __name__ == \"__main__\":\n",
    "#     main()\n",
    "\n"
   ]
  },
  {
   "cell_type": "markdown",
   "metadata": {},
   "source": []
  },
  {
   "cell_type": "code",
   "execution_count": 14,
   "metadata": {},
   "outputs": [],
   "source": [
    "import os\n",
    "def print_board(board):\n",
    "    \"\"\"Prints the board in a readable format.\"\"\"\n",
    "    os.system('cls' if os.name == 'nt' else 'clear')\n",
    "    for row in board:\n",
    "        print(\"+----\" * 4 + \"+\")\n",
    "        for tile in row:\n",
    "            if tile == 0:\n",
    "                print(\"| 0  \", end=\"\")\n",
    "            else:\n",
    "                print(f\"|{tile:^4}\", end=\"\")\n",
    "        print(\"|\")\n",
    "    print(\"+----\" * 4 + \"+\")\n",
    "\n",
    "# tests = [[0,0,1,1],\n",
    "#          [1,0,0,1],\n",
    "#          [1,1,0,1],\n",
    "#          [1,1,1,1]]\n",
    "\n",
    "# print_board(tests)"
   ]
  },
  {
   "cell_type": "code",
   "execution_count": 15,
   "metadata": {},
   "outputs": [],
   "source": [
    "import random\n",
    "\n",
    "def init_board():\n",
    "    # Create a 4x4 board initialized with 0s\n",
    "    board = [[0] * 4 for _ in range(4)]\n",
    "\n",
    "    cellnos = set()\n",
    "    while len(cellnos) < 2:\n",
    "        cellnos.add(random.randint(0, 15))\n",
    "    \n",
    "    for cell in cellnos:\n",
    "        row = cell // 4\n",
    "        col = cell % 4\n",
    "        board[row][col] = random.choice([2, 4])\n",
    "    \n",
    "    return board"
   ]
  },
  {
   "cell_type": "code",
   "execution_count": 16,
   "metadata": {},
   "outputs": [],
   "source": [
    "def shift_right(test):\n",
    "    \n",
    "    right=3\n",
    "    left=2\n",
    "    \n",
    "    while left>=0:\n",
    "        # print(left, right, test[left], test[right])\n",
    "        if test[right] == 0 and test[left] != 0:\n",
    "            test[right] = test[left]\n",
    "            test[left]=0\n",
    "            left-=1\n",
    "        elif test[right] == test[left] and test[left] and test[right]:\n",
    "            test[right] += test[left]\n",
    "            test[left]=0\n",
    "            right-=1\n",
    "            left-=1\n",
    "        elif test[right] != test[left] and test[left] and test[right]:\n",
    "            right-=1\n",
    "            left=-1\n",
    "        else:\n",
    "            left-=1\n",
    "\n",
    "    return test"
   ]
  },
  {
   "cell_type": "code",
   "execution_count": 18,
   "metadata": {},
   "outputs": [
    {
     "name": "stdout",
     "output_type": "stream",
     "text": [
      "+----+----+----+----+\n",
      "| 2  | 2  | 4  | 8  |\n",
      "+----+----+----+----+\n",
      "| 0  | 0  | 0  | 0  |\n",
      "+----+----+----+----+\n",
      "| 0  | 0  | 0  | 0  |\n",
      "+----+----+----+----+\n",
      "| 0  | 0  | 0  | 0  |\n",
      "+----+----+----+----+\n",
      "+----+----+----+----+\n",
      "| 2  | 2  | 4  | 8  |\n",
      "+----+----+----+----+\n"
     ]
    },
    {
     "ename": "TypeError",
     "evalue": "'int' object is not iterable",
     "output_type": "error",
     "traceback": [
      "\u001b[1;31m---------------------------------------------------------------------------\u001b[0m",
      "\u001b[1;31mTypeError\u001b[0m                                 Traceback (most recent call last)",
      "Cell \u001b[1;32mIn[18], line 3\u001b[0m\n\u001b[0;32m      1\u001b[0m board \u001b[38;5;241m=\u001b[39m [[\u001b[38;5;241m2\u001b[39m, \u001b[38;5;241m2\u001b[39m, \u001b[38;5;241m4\u001b[39m, \u001b[38;5;241m8\u001b[39m], [\u001b[38;5;241m0\u001b[39m, \u001b[38;5;241m0\u001b[39m, \u001b[38;5;241m0\u001b[39m, \u001b[38;5;241m0\u001b[39m], [\u001b[38;5;241m0\u001b[39m, \u001b[38;5;241m0\u001b[39m, \u001b[38;5;241m0\u001b[39m, \u001b[38;5;241m0\u001b[39m], [\u001b[38;5;241m0\u001b[39m, \u001b[38;5;241m0\u001b[39m, \u001b[38;5;241m0\u001b[39m, \u001b[38;5;241m0\u001b[39m]]\n\u001b[0;32m      2\u001b[0m print_board(board)\n\u001b[1;32m----> 3\u001b[0m \u001b[43mprint_board\u001b[49m\u001b[43m(\u001b[49m\u001b[43mshift_right\u001b[49m\u001b[43m(\u001b[49m\u001b[43mboard\u001b[49m\u001b[43m)\u001b[49m\u001b[43m)\u001b[49m\n",
      "Cell \u001b[1;32mIn[14], line 7\u001b[0m, in \u001b[0;36mprint_board\u001b[1;34m(board)\u001b[0m\n\u001b[0;32m      5\u001b[0m \u001b[38;5;28;01mfor\u001b[39;00m row \u001b[38;5;129;01min\u001b[39;00m board:\n\u001b[0;32m      6\u001b[0m     \u001b[38;5;28mprint\u001b[39m(\u001b[38;5;124m\"\u001b[39m\u001b[38;5;124m+----\u001b[39m\u001b[38;5;124m\"\u001b[39m \u001b[38;5;241m*\u001b[39m \u001b[38;5;241m4\u001b[39m \u001b[38;5;241m+\u001b[39m \u001b[38;5;124m\"\u001b[39m\u001b[38;5;124m+\u001b[39m\u001b[38;5;124m\"\u001b[39m)\n\u001b[1;32m----> 7\u001b[0m     \u001b[38;5;28;01mfor\u001b[39;00m tile \u001b[38;5;129;01min\u001b[39;00m row:\n\u001b[0;32m      8\u001b[0m         \u001b[38;5;28;01mif\u001b[39;00m tile \u001b[38;5;241m==\u001b[39m \u001b[38;5;241m0\u001b[39m:\n\u001b[0;32m      9\u001b[0m             \u001b[38;5;28mprint\u001b[39m(\u001b[38;5;124m\"\u001b[39m\u001b[38;5;124m| 0  \u001b[39m\u001b[38;5;124m\"\u001b[39m, end\u001b[38;5;241m=\u001b[39m\u001b[38;5;124m\"\u001b[39m\u001b[38;5;124m\"\u001b[39m)\n",
      "\u001b[1;31mTypeError\u001b[0m: 'int' object is not iterable"
     ]
    }
   ],
   "source": [
    "board = [[2, 2, 4, 8], [0, 0, 0, 0], [0, 0, 0, 0], [0, 0, 0, 0]]\n",
    "print_board(board)\n",
    "print_board(shift_right(board))"
   ]
  },
  {
   "cell_type": "code",
   "execution_count": 5,
   "metadata": {},
   "outputs": [],
   "source": [
    "from IPython.display import clear_output\n",
    "\n",
    "\n",
    "def right(board):\n",
    "    for r in board:\n",
    "        r = shift_right(r)\n",
    "    \n",
    "    print(\"right\")\n",
    "    return board\n",
    "\n",
    "def left(board):\n",
    "    for a in board:\n",
    "        a.reverse()\n",
    "        a = shift_right(a)\n",
    "        a.reverse()\n",
    "\n",
    "    print(\"left\")\n",
    "    return board\n",
    "\n",
    "def down(board):\n",
    "    board = [[x[i] for x in board] for i in range(len(board[0]))][::-1]\n",
    "\n",
    "    for i in range(len(board)):\n",
    "        board[i] = shift_right(board[i])\n",
    "\n",
    "    board = [list(reversed(col)) for col in zip(*board)]\n",
    "    print(\"down\")\n",
    "    return board\n",
    "\n",
    "def up(board):\n",
    "    board = [list(reversed(col)) for col in zip(*board)]\n",
    "\n",
    "    for i in range(len(board)):\n",
    "        board[i] = shift_right(board[i])\n",
    "\n",
    "    board = [[x[i] for x in board] for i in range(len(board[0]))][::-1]\n",
    "    print(\"up\")\n",
    "    return board\n",
    "\n",
    "def randfill(board):\n",
    "    while(True):\n",
    "        cell = random.randint(0, 15)\n",
    "        row = cell//4\n",
    "        col = cell%4\n",
    "        if(board[row][col]==0):\n",
    "            board[row][col] = random.choice([2, 4])\n",
    "            break\n",
    "\n",
    "    return board\n",
    "\n",
    "# tests = init_board()\n",
    "# print_board(tests)\n",
    "# # clear_output(wait=True)\n",
    "# print_board(down(tests.copy()))"
   ]
  },
  {
   "cell_type": "code",
   "execution_count": 6,
   "metadata": {},
   "outputs": [
    {
     "name": "stdout",
     "output_type": "stream",
     "text": [
      "+----+----+----+----+\n",
      "| 2  | 0  | 0  | 0  |\n",
      "+----+----+----+----+\n",
      "| 4  | 0  | 0  | 0  |\n",
      "+----+----+----+----+\n",
      "| 0  | 0  | 0  | 0  |\n",
      "+----+----+----+----+\n",
      "| 0  | 0  | 0  | 0  |\n",
      "+----+----+----+----+\n"
     ]
    }
   ],
   "source": [
    "board = init_board()\n",
    "print_board(board)\n",
    "# # clear_output(wait=True)"
   ]
  },
  {
   "cell_type": "code",
   "execution_count": 9,
   "metadata": {},
   "outputs": [
    {
     "name": "stdout",
     "output_type": "stream",
     "text": [
      "+----+----+----+----+\n",
      "| 2  | 2  | 4  | 8  |\n",
      "+----+----+----+----+\n",
      "| 0  | 0  | 0  | 0  |\n",
      "+----+----+----+----+\n",
      "| 0  | 0  | 0  | 0  |\n",
      "+----+----+----+----+\n",
      "| 0  | 0  | 0  | 0  |\n",
      "+----+----+----+----+\n",
      "right\n",
      "+----+----+----+----+\n",
      "| 2  | 2  | 4  | 8  |\n",
      "+----+----+----+----+\n",
      "| 0  | 0  | 0  | 0  |\n",
      "+----+----+----+----+\n",
      "| 0  | 0  | 0  | 0  |\n",
      "+----+----+----+----+\n",
      "| 2  | 0  | 0  | 0  |\n",
      "+----+----+----+----+\n",
      "left\n",
      "+----+----+----+----+\n",
      "| 4  | 4  | 4  | 8  |\n",
      "+----+----+----+----+\n",
      "| 0  | 0  | 0  | 0  |\n",
      "+----+----+----+----+\n",
      "| 0  | 0  | 0  | 0  |\n",
      "+----+----+----+----+\n",
      "| 2  | 0  | 0  | 0  |\n",
      "+----+----+----+----+\n"
     ]
    }
   ],
   "source": [
    "# board = init_board()\n",
    "board = [[2, 2, 4, 8], [0, 0, 0, 0], [0, 0, 0, 0], [0, 0, 0, 0]]\n",
    "print_board(board)\n",
    "\n",
    "while True:\n",
    "\n",
    "    inp = input()\n",
    "\n",
    "    if inp == 'l':\n",
    "        left(board)\n",
    "    elif inp == 'r':\n",
    "        right(board)\n",
    "    elif inp == 'u':\n",
    "        board = up(board)\n",
    "    elif inp == 'd':\n",
    "        board = down(board)\n",
    "    else:\n",
    "        break\n",
    "    randfill(board)\n",
    "    # clear_output(wait=True)\n",
    "    print_board(board)\n"
   ]
  },
  {
   "cell_type": "code",
   "execution_count": 7,
   "metadata": {},
   "outputs": [
    {
     "name": "stdout",
     "output_type": "stream",
     "text": [
      "+----+----+----+----+\n",
      "| 0  | 0  | 4  | 0  |\n",
      "+----+----+----+----+\n",
      "| 2  | 0  | 0  | 0  |\n",
      "+----+----+----+----+\n",
      "| 0  | 0  | 0  | 0  |\n",
      "+----+----+----+----+\n",
      "| 0  | 0  | 0  | 0  |\n",
      "+----+----+----+----+\n",
      "+----+----+----+----+\n",
      "| 0  | 0  | 4  | 0  |\n",
      "+----+----+----+----+\n",
      "| 2  | 0  | 0  | 0  |\n",
      "+----+----+----+----+\n",
      "| 0  | 0  | 0  | 0  |\n",
      "+----+----+----+----+\n",
      "| 4  | 0  | 0  | 0  |\n",
      "+----+----+----+----+\n",
      "+----+----+----+----+\n",
      "| 0  | 0  | 4  | 0  |\n",
      "+----+----+----+----+\n",
      "| 2  | 0  | 0  | 0  |\n",
      "+----+----+----+----+\n",
      "| 0  | 0  | 0  | 4  |\n",
      "+----+----+----+----+\n",
      "| 4  | 0  | 0  | 0  |\n",
      "+----+----+----+----+\n"
     ]
    },
    {
     "ename": "",
     "evalue": "",
     "output_type": "error",
     "traceback": [
      "\u001b[1;31mCannot execute code, session has been disposed. Please try restarting the Kernel."
     ]
    },
    {
     "ename": "",
     "evalue": "",
     "output_type": "error",
     "traceback": [
      "\u001b[1;31mCannot execute code, session has been disposed. Please try restarting the Kernel. \n",
      "\u001b[1;31mView Jupyter <a href='command:jupyter.viewOutput'>log</a> for further details."
     ]
    }
   ],
   "source": [
    "board = init_board()\n",
    "print_board(board)\n",
    "while True:\n",
    "\n",
    "    inp = input()\n",
    "\n",
    "    if type == 'l':\n",
    "        left(board)\n",
    "    elif type == 'r':\n",
    "        right(board)\n",
    "    elif type == 'u':\n",
    "        board = up(board)\n",
    "    elif type == 'd':\n",
    "        board = down(board)\n",
    "    randfill(board)\n",
    "\n",
    "    print_board(board)"
   ]
  },
  {
   "cell_type": "code",
   "execution_count": 10,
   "metadata": {},
   "outputs": [
    {
     "name": "stdout",
     "output_type": "stream",
     "text": [
      "Port 5000 is available.\n",
      " * Serving Flask app '__main__'\n",
      " * Debug mode: off\n"
     ]
    },
    {
     "name": "stderr",
     "output_type": "stream",
     "text": [
      "WARNING: This is a development server. Do not use it in a production deployment. Use a production WSGI server instead.\n",
      " * Running on http://127.0.0.1:5000\n",
      "Press CTRL+C to quit\n",
      "127.0.0.1 - - [05/Sep/2024 10:56:41] \"GET / HTTP/1.1\" 200 -\n",
      "127.0.0.1 - - [05/Sep/2024 10:56:44] \"GET /update/left HTTP/1.1\" 200 -\n"
     ]
    },
    {
     "name": "stdout",
     "output_type": "stream",
     "text": [
      "left\n"
     ]
    },
    {
     "name": "stderr",
     "output_type": "stream",
     "text": [
      "127.0.0.1 - - [05/Sep/2024 10:56:47] \"GET /update/down HTTP/1.1\" 200 -\n"
     ]
    },
    {
     "name": "stdout",
     "output_type": "stream",
     "text": [
      "down\n"
     ]
    },
    {
     "name": "stderr",
     "output_type": "stream",
     "text": [
      "127.0.0.1 - - [05/Sep/2024 10:56:50] \"GET /update/right HTTP/1.1\" 200 -\n"
     ]
    },
    {
     "name": "stdout",
     "output_type": "stream",
     "text": [
      "right\n"
     ]
    },
    {
     "name": "stderr",
     "output_type": "stream",
     "text": [
      "127.0.0.1 - - [05/Sep/2024 10:56:52] \"GET /update/up HTTP/1.1\" 200 -\n"
     ]
    },
    {
     "name": "stdout",
     "output_type": "stream",
     "text": [
      "up\n"
     ]
    },
    {
     "name": "stderr",
     "output_type": "stream",
     "text": [
      "127.0.0.1 - - [05/Sep/2024 10:56:54] \"GET /update/right HTTP/1.1\" 200 -\n"
     ]
    },
    {
     "name": "stdout",
     "output_type": "stream",
     "text": [
      "right\n"
     ]
    },
    {
     "name": "stderr",
     "output_type": "stream",
     "text": [
      "127.0.0.1 - - [05/Sep/2024 10:57:02] \"GET /update/left HTTP/1.1\" 200 -\n"
     ]
    },
    {
     "name": "stdout",
     "output_type": "stream",
     "text": [
      "left\n"
     ]
    },
    {
     "name": "stderr",
     "output_type": "stream",
     "text": [
      "127.0.0.1 - - [05/Sep/2024 10:57:05] \"GET /update/right HTTP/1.1\" 200 -\n"
     ]
    },
    {
     "name": "stdout",
     "output_type": "stream",
     "text": [
      "right\n"
     ]
    },
    {
     "name": "stderr",
     "output_type": "stream",
     "text": [
      "127.0.0.1 - - [05/Sep/2024 10:57:08] \"GET /update/down HTTP/1.1\" 200 -\n"
     ]
    },
    {
     "name": "stdout",
     "output_type": "stream",
     "text": [
      "down\n"
     ]
    },
    {
     "name": "stderr",
     "output_type": "stream",
     "text": [
      "127.0.0.1 - - [05/Sep/2024 10:57:09] \"GET /update/down HTTP/1.1\" 200 -\n"
     ]
    },
    {
     "name": "stdout",
     "output_type": "stream",
     "text": [
      "down\n"
     ]
    },
    {
     "name": "stderr",
     "output_type": "stream",
     "text": [
      "127.0.0.1 - - [05/Sep/2024 10:57:10] \"GET /update/down HTTP/1.1\" 200 -\n"
     ]
    },
    {
     "name": "stdout",
     "output_type": "stream",
     "text": [
      "down\n"
     ]
    },
    {
     "name": "stderr",
     "output_type": "stream",
     "text": [
      "127.0.0.1 - - [05/Sep/2024 10:57:11] \"GET /update/down HTTP/1.1\" 200 -\n"
     ]
    },
    {
     "name": "stdout",
     "output_type": "stream",
     "text": [
      "down\n"
     ]
    },
    {
     "name": "stderr",
     "output_type": "stream",
     "text": [
      "127.0.0.1 - - [05/Sep/2024 10:57:11] \"GET /update/down HTTP/1.1\" 200 -\n",
      "127.0.0.1 - - [05/Sep/2024 10:57:12] \"GET /update/down HTTP/1.1\" 200 -\n"
     ]
    },
    {
     "name": "stdout",
     "output_type": "stream",
     "text": [
      "down\n",
      "down\n"
     ]
    },
    {
     "name": "stderr",
     "output_type": "stream",
     "text": [
      "127.0.0.1 - - [05/Sep/2024 10:57:12] \"GET /update/down HTTP/1.1\" 200 -\n",
      "127.0.0.1 - - [05/Sep/2024 10:57:12] \"GET /update/down HTTP/1.1\" 200 -\n"
     ]
    },
    {
     "name": "stdout",
     "output_type": "stream",
     "text": [
      "down\n",
      "down\n"
     ]
    },
    {
     "name": "stderr",
     "output_type": "stream",
     "text": [
      "127.0.0.1 - - [05/Sep/2024 10:57:12] \"GET /update/down HTTP/1.1\" 200 -\n",
      "127.0.0.1 - - [05/Sep/2024 10:57:12] \"GET /update/down HTTP/1.1\" 200 -\n"
     ]
    },
    {
     "name": "stdout",
     "output_type": "stream",
     "text": [
      "down\n",
      "down\n"
     ]
    }
   ],
   "source": [
    "from flask import Flask, render_template_string, request, jsonify\n",
    "import socket\n",
    "import random\n",
    "\n",
    "app = Flask(__name__)\n",
    "\n",
    "# Function to check if a port is available\n",
    "def is_port_available(port):\n",
    "    with socket.socket(socket.AF_INET, socket.SOCK_STREAM) as sock:\n",
    "        return sock.connect_ex(('localhost', port)) != 0\n",
    "\n",
    "# Port to be used\n",
    "port = 5000\n",
    "if is_port_available(port):\n",
    "    print(f\"Port {port} is available.\")\n",
    "else:\n",
    "    print(f\"Port {port} is already in use.\")\n",
    "\n",
    "\n",
    "def update_grid_random():\n",
    "    \"\"\"Update the grid with random values.\"\"\"\n",
    "    global grid_data\n",
    "    size = len(grid_data)\n",
    "    grid_data = [[random.randint(1, 100) for _ in range(size)] for _ in range(size)]\n",
    "\n",
    "def update_grid_increment():\n",
    "    \"\"\"Update the grid with incrementing values.\"\"\"\n",
    "    global grid_data\n",
    "    size = len(grid_data)\n",
    "    grid_data = [[i * size + j + 1 for j in range(size)] for i in range(size)]\n",
    "\n",
    "def update_grid_zero():\n",
    "    \"\"\"Set all cells to zero.\"\"\"\n",
    "    global grid_data\n",
    "    size = len(grid_data)\n",
    "    grid_data = [[0 for _ in range(size)] for _ in range(size)]\n",
    "\n",
    "def update_grid_diagonal():\n",
    "    \"\"\"Update the grid with diagonal values.\"\"\"\n",
    "    global grid_data\n",
    "    size = len(grid_data)\n",
    "    grid_data = [[i if i == j else 0 for j in range(size)] for i in range(size)]\n",
    "\n",
    "@app.route('/')\n",
    "def index():\n",
    "    return render_template_string('''\n",
    "        <!doctype html>\n",
    "        <html lang=\"en\">\n",
    "        <head>\n",
    "            <meta charset=\"utf-8\">\n",
    "            <meta name=\"viewport\" content=\"width=device-width, initial-scale=1\">\n",
    "            <title>2D Grid</title>\n",
    "            <style>\n",
    "                body {\n",
    "                    font-family: Arial, sans-serif;\n",
    "                    display: flex;\n",
    "                    flex-direction: column;\n",
    "                    justify-content: center;\n",
    "                    align-items: center;\n",
    "                    height: 100vh;\n",
    "                    margin: 0;\n",
    "                    background-color: #f4f4f4;\n",
    "                }\n",
    "                .grid-container {\n",
    "                    display: grid;\n",
    "                    grid-template-columns: repeat({{ size }}, {{ cell_size }}px);\n",
    "                    grid-template-rows: repeat({{ size }}, {{ cell_size }}px);\n",
    "                    gap: 5px;\n",
    "                    margin-bottom: 20px;\n",
    "                }\n",
    "                .grid-item {\n",
    "                    border: 1px solid #00796b;\n",
    "                    border-radius: 5px;\n",
    "                    display: flex;\n",
    "                    align-items: center;\n",
    "                    justify-content: center;\n",
    "                    color: white;\n",
    "                    font-size: 16px;\n",
    "                }\n",
    "                .button-container {\n",
    "                    display: flex;\n",
    "                    gap: 10px;\n",
    "                }\n",
    "                .btn {\n",
    "                    background-color: #00796b;\n",
    "                    color: white;\n",
    "                    border: none;\n",
    "                    border-radius: 5px;\n",
    "                    padding: 10px 20px;\n",
    "                    cursor: pointer;\n",
    "                }\n",
    "                .btn:hover {\n",
    "                    background-color: #004d40;\n",
    "                }\n",
    "            </style>\n",
    "        </head>\n",
    "        <body>\n",
    "            <div class=\"grid-container\">\n",
    "                {% for row in grid %}\n",
    "                    {% for item in row %}\n",
    "                        <div class=\"grid-item\" style=\"background-color: {{ get_color(item) }}\">{{ item }}</div>\n",
    "                    {% endfor %}\n",
    "                {% endfor %}\n",
    "            </div>\n",
    "            <div class=\"button-container\">\n",
    "                <button class=\"btn\" onclick=\"updateGrid('left')\">Left</button>\n",
    "                <button class=\"btn\" onclick=\"updateGrid('right')\">Right</button>\n",
    "                <button class=\"btn\" onclick=\"updateGrid('up')\">Up</button>\n",
    "                <button class=\"btn\" onclick=\"updateGrid('down')\">Down</button>\n",
    "            </div>\n",
    "            <script>\n",
    "                function updateGrid(type) {\n",
    "                    fetch(`/update/${type}`)\n",
    "                        .then(response => response.json())\n",
    "                        .then(data => {\n",
    "                            const gridItems = document.querySelectorAll('.grid-item');\n",
    "                            let index = 0;\n",
    "                            data.grid.forEach(row => {\n",
    "                                row.forEach(value => {\n",
    "                                    gridItems[index].textContent = value;\n",
    "                                    gridItems[index].style.backgroundColor = getColor(value);\n",
    "                                    index++;\n",
    "                                });\n",
    "                            });\n",
    "                        });\n",
    "                }\n",
    "                \n",
    "                function getColor(value) {\n",
    "                    const colorMap = {\n",
    "                        0: \"#f4f4f4\",    \n",
    "                        2: \"#eee4da\",\n",
    "                        4: \"#ede0c8\",\n",
    "                        8: \"#f2b179\",\n",
    "                        16: \"#f59563\",\n",
    "                        32: \"#f67c5f\",\n",
    "                        64: \"#f65e3b\",\n",
    "                        128: \"#dce4b8\",\n",
    "                        256: \"#d1c1a3\",\n",
    "                        512: \"#b9b07a\",\n",
    "                        1024: \"#b78e3b\",\n",
    "                        2048: \"#b35f2f\"\n",
    "                    };\n",
    "                    return colorMap[value] || \"#000000\";\n",
    "                }\n",
    "            </script>\n",
    "        </body>\n",
    "        </html>\n",
    "    ''', size=len(grid_data), cell_size=cell_size, grid=grid_data, get_color=get_color)\n",
    "\n",
    "\n",
    "def get_color(value):\n",
    "    color_map = {\n",
    "        0: \"#f4f4f4\",    # Light gray for 0\n",
    "        2: \"#eee4da\",\n",
    "        4: \"#ede0c8\",\n",
    "        8: \"#f2b179\",\n",
    "        16: \"#f59563\",\n",
    "        32: \"#f67c5f\",\n",
    "        64: \"#f65e3b\",\n",
    "        128: \"#dce4b8\",\n",
    "        256: \"#d1c1a3\",\n",
    "        512: \"#b9b07a\",\n",
    "        1024: \"#b78e3b\",\n",
    "        2048: \"#b35f2f\"\n",
    "    }\n",
    "    return color_map.get(value, \"#000000\")  # Default to black if value is not in the map\n",
    "\n",
    "\n",
    "@app.route('/update/<type>', methods=['GET'])\n",
    "def update_grid(type):\n",
    "    global grid_data\n",
    "    if type == 'left':\n",
    "        left(grid_data)\n",
    "    elif type == 'right':\n",
    "        right(grid_data)\n",
    "    elif type == 'up':\n",
    "        grid_data = up(grid_data)\n",
    "    elif type == 'down':\n",
    "        grid_data = down(grid_data)\n",
    "    randfill(grid_data)\n",
    "    \n",
    "    return jsonify(grid=grid_data)\n",
    "\n",
    "# Example initial 2D grid\n",
    "grid_data = init_board()\n",
    "\n",
    "\n",
    "cell_size = 100\n",
    "\n",
    "if __name__ == '__main__':\n",
    "    app.run(port=port)\n"
   ]
  },
  {
   "cell_type": "code",
   "execution_count": 26,
   "metadata": {},
   "outputs": [
    {
     "name": "stdout",
     "output_type": "stream",
     "text": [
      "Large file only in C:\\Users\\ishub\\OneDrive\\Desktop\\cui\\ComfyUI_windows_portable\\ComfyUI\\models\\loras: realism_lora.safetensors (21.39 MB)\n",
      "Large file only in C:\\Users\\ishub\\OneDrive\\Desktop\\cui\\ComfyUI_windows_portable\\ComfyUI\\output: ComfyUI_00003_.png (17.59 MB)\n",
      "Large file only in C:\\Users\\ishub\\OneDrive\\Desktop\\cui\\ComfyUI_windows_portable\\ComfyUI\\output: ComfyUI_00004_.png (18.59 MB)\n",
      "Large file in C:\\Users\\ishub\\OneDrive\\Desktop\\cui\\ComfyUI_windows_portable\\python_embeded\\Lib\\site-packages\\cv2: cv2.pyd (85.65 MB)\n",
      "Large file in F:\\cui\\ComfyUI_windows_portable\\python_embeded\\Lib\\site-packages\\cv2: cv2.pyd (71.00 MB)\n"
     ]
    }
   ],
   "source": [
    "import filecmp\n",
    "import os\n",
    "\n",
    "# Define the size threshold in bytes (100 MB = 100 * 1024 * 1024 bytes)\n",
    "SIZE_THRESHOLD = 100 * 1024 * 100\n",
    "\n",
    "def compare_directories_recursively_with_size_check(dir1, dir2):\n",
    "    def recursive_compare(dcmp):\n",
    "        # Check files that are only in the left directory\n",
    "        for file_name in dcmp.left_only:\n",
    "            file_path = os.path.join(dcmp.left, file_name)\n",
    "            if os.path.isfile(file_path) and os.path.getsize(file_path) > SIZE_THRESHOLD:\n",
    "                print(f\"Large file only in {dcmp.left}: {file_name} ({os.path.getsize(file_path) / (1024 * 1024):.2f} MB)\")\n",
    "        \n",
    "        # Check files that are only in the right directory\n",
    "        for file_name in dcmp.right_only:\n",
    "            file_path = os.path.join(dcmp.right, file_name)\n",
    "            if os.path.isfile(file_path) and os.path.getsize(file_path) > SIZE_THRESHOLD:\n",
    "                print(f\"Large file only in {dcmp.right}: {file_name} ({os.path.getsize(file_path) / (1024 * 1024):.2f} MB)\")\n",
    "        \n",
    "        # Check files that are in both directories but differ in size\n",
    "        for file_name in dcmp.diff_files:\n",
    "            left_file = os.path.join(dcmp.left, file_name)\n",
    "            right_file = os.path.join(dcmp.right, file_name)\n",
    "            left_size = os.path.getsize(left_file)\n",
    "            right_size = os.path.getsize(right_file)\n",
    "            if left_size > SIZE_THRESHOLD:\n",
    "                print(f\"Large file in {dcmp.left}: {file_name} ({left_size / (1024 * 1024):.2f} MB)\")\n",
    "            if right_size > SIZE_THRESHOLD:\n",
    "                print(f\"Large file in {dcmp.right}: {file_name} ({right_size / (1024 * 1024):.2f} MB)\")\n",
    "        \n",
    "        # Recur into subdirectories\n",
    "        for sub_dcmp in dcmp.subdirs.values():\n",
    "            recursive_compare(sub_dcmp)\n",
    "\n",
    "    # Start recursive comparison\n",
    "    dcmp = filecmp.dircmp(dir1, dir2)\n",
    "    recursive_compare(dcmp)\n",
    "\n",
    "# Example usage\n",
    "# dir1 = '/path/to/directory1'\n",
    "# dir2 = '/path/to/directory2'\n",
    "\n",
    "\n",
    "# Example usage\n",
    "# dir1 = '/path/to/directory1'\n",
    "# dir2 = '/path/to/directory2'\n",
    "# compare_directories(dir1, dir2)\n",
    "\n",
    "# Example usage\n",
    "dir1 = r'C:\\Users\\ishub\\OneDrive\\Desktop\\cui'\n",
    "dir2 = r'F:\\cui'\n",
    "# compare_directories_recursively(dir1, dir2)\n",
    "compare_directories_recursively_with_size_check(dir1, dir2)\n"
   ]
  },
  {
   "cell_type": "code",
   "execution_count": 28,
   "metadata": {},
   "outputs": [
    {
     "name": "stdout",
     "output_type": "stream",
     "text": [
      "Directory 'F:\\cui' successfully copied to 'C:\\Users\\ishub\\OneDrive\\Desktop\\cui'.\n"
     ]
    }
   ],
   "source": [
    "import shutil\n",
    "import os\n",
    "\n",
    "def copy_folder(source, destination):\n",
    "    # Check if the source directory exists\n",
    "    if not os.path.exists(source):\n",
    "        print(f\"The source directory '{source}' does not exist.\")\n",
    "        return\n",
    "    \n",
    "    # Check if the destination directory already exists\n",
    "    if os.path.exists(destination):\n",
    "        print(f\"The destination directory '{destination}' already exists.\")\n",
    "        return\n",
    "    \n",
    "    try:\n",
    "        # Copy the entire directory tree from source to destination\n",
    "        shutil.copytree(source, destination)\n",
    "        print(f\"Directory '{source}' successfully copied to '{destination}'.\")\n",
    "    except Exception as e:\n",
    "        print(f\"Error: {e}\")\n",
    "\n",
    "# Example usage\n",
    "source_dir = r'F:\\cui'\n",
    "destination_dir = r'C:\\Users\\ishub\\OneDrive\\Desktop\\cui'\n",
    "copy_folder(source_dir, destination_dir)\n"
   ]
  }
 ],
 "metadata": {
  "kernelspec": {
   "display_name": "Python 3",
   "language": "python",
   "name": "python3"
  },
  "language_info": {
   "codemirror_mode": {
    "name": "ipython",
    "version": 3
   },
   "file_extension": ".py",
   "mimetype": "text/x-python",
   "name": "python",
   "nbconvert_exporter": "python",
   "pygments_lexer": "ipython3",
   "version": "3.10.0"
  }
 },
 "nbformat": 4,
 "nbformat_minor": 2
}
