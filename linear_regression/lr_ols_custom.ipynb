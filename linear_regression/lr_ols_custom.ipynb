{
 "cells": [
  {
   "cell_type": "markdown",
   "metadata": {},
   "source": [
    "### Import Required Libraries"
   ]
  },
  {
   "cell_type": "code",
   "execution_count": 75,
   "metadata": {},
   "outputs": [],
   "source": [
    "import pandas as pd\n",
    "import numpy as np\n",
    "import matplotlib.pyplot as plt\n",
    "from sklearn.metrics import mean_absolute_error, mean_squared_error, r2_score, root_mean_squared_error"
   ]
  },
  {
   "cell_type": "markdown",
   "metadata": {},
   "source": [
    "### Load Data"
   ]
  },
  {
   "cell_type": "code",
   "execution_count": 76,
   "metadata": {},
   "outputs": [
    {
     "data": {
      "text/html": [
       "<div>\n",
       "<style scoped>\n",
       "    .dataframe tbody tr th:only-of-type {\n",
       "        vertical-align: middle;\n",
       "    }\n",
       "\n",
       "    .dataframe tbody tr th {\n",
       "        vertical-align: top;\n",
       "    }\n",
       "\n",
       "    .dataframe thead th {\n",
       "        text-align: right;\n",
       "    }\n",
       "</style>\n",
       "<table border=\"1\" class=\"dataframe\">\n",
       "  <thead>\n",
       "    <tr style=\"text-align: right;\">\n",
       "      <th></th>\n",
       "      <th>Unnamed: 0</th>\n",
       "      <th>YearsExperience</th>\n",
       "      <th>Salary</th>\n",
       "    </tr>\n",
       "  </thead>\n",
       "  <tbody>\n",
       "    <tr>\n",
       "      <th>21</th>\n",
       "      <td>21</td>\n",
       "      <td>7.2</td>\n",
       "      <td>98274.0</td>\n",
       "    </tr>\n",
       "    <tr>\n",
       "      <th>24</th>\n",
       "      <td>24</td>\n",
       "      <td>8.8</td>\n",
       "      <td>109432.0</td>\n",
       "    </tr>\n",
       "    <tr>\n",
       "      <th>12</th>\n",
       "      <td>12</td>\n",
       "      <td>4.1</td>\n",
       "      <td>56958.0</td>\n",
       "    </tr>\n",
       "    <tr>\n",
       "      <th>26</th>\n",
       "      <td>26</td>\n",
       "      <td>9.6</td>\n",
       "      <td>116970.0</td>\n",
       "    </tr>\n",
       "    <tr>\n",
       "      <th>0</th>\n",
       "      <td>0</td>\n",
       "      <td>1.2</td>\n",
       "      <td>39344.0</td>\n",
       "    </tr>\n",
       "  </tbody>\n",
       "</table>\n",
       "</div>"
      ],
      "text/plain": [
       "    Unnamed: 0  YearsExperience    Salary\n",
       "21          21              7.2   98274.0\n",
       "24          24              8.8  109432.0\n",
       "12          12              4.1   56958.0\n",
       "26          26              9.6  116970.0\n",
       "0            0              1.2   39344.0"
      ]
     },
     "execution_count": 76,
     "metadata": {},
     "output_type": "execute_result"
    }
   ],
   "source": [
    "df = pd.read_csv(\"../../data/Salary_dataset.csv\")\n",
    "df.sample(5)"
   ]
  },
  {
   "cell_type": "code",
   "execution_count": 77,
   "metadata": {},
   "outputs": [
    {
     "data": {
      "text/html": [
       "<div>\n",
       "<style scoped>\n",
       "    .dataframe tbody tr th:only-of-type {\n",
       "        vertical-align: middle;\n",
       "    }\n",
       "\n",
       "    .dataframe tbody tr th {\n",
       "        vertical-align: top;\n",
       "    }\n",
       "\n",
       "    .dataframe thead th {\n",
       "        text-align: right;\n",
       "    }\n",
       "</style>\n",
       "<table border=\"1\" class=\"dataframe\">\n",
       "  <thead>\n",
       "    <tr style=\"text-align: right;\">\n",
       "      <th></th>\n",
       "      <th>YearsExperience</th>\n",
       "      <th>Salary</th>\n",
       "    </tr>\n",
       "  </thead>\n",
       "  <tbody>\n",
       "    <tr>\n",
       "      <th>24</th>\n",
       "      <td>8.8</td>\n",
       "      <td>109432.0</td>\n",
       "    </tr>\n",
       "    <tr>\n",
       "      <th>1</th>\n",
       "      <td>1.4</td>\n",
       "      <td>46206.0</td>\n",
       "    </tr>\n",
       "    <tr>\n",
       "      <th>13</th>\n",
       "      <td>4.2</td>\n",
       "      <td>57082.0</td>\n",
       "    </tr>\n",
       "    <tr>\n",
       "      <th>12</th>\n",
       "      <td>4.1</td>\n",
       "      <td>56958.0</td>\n",
       "    </tr>\n",
       "    <tr>\n",
       "      <th>3</th>\n",
       "      <td>2.1</td>\n",
       "      <td>43526.0</td>\n",
       "    </tr>\n",
       "  </tbody>\n",
       "</table>\n",
       "</div>"
      ],
      "text/plain": [
       "    YearsExperience    Salary\n",
       "24              8.8  109432.0\n",
       "1               1.4   46206.0\n",
       "13              4.2   57082.0\n",
       "12              4.1   56958.0\n",
       "3               2.1   43526.0"
      ]
     },
     "execution_count": 77,
     "metadata": {},
     "output_type": "execute_result"
    }
   ],
   "source": [
    "# Drop unwnted columns\n",
    "df = df.drop(\"Unnamed: 0\", axis=1)\n",
    "df.sample(5)"
   ]
  },
  {
   "cell_type": "code",
   "execution_count": 78,
   "metadata": {},
   "outputs": [
    {
     "data": {
      "text/plain": [
       "<matplotlib.collections.PathCollection at 0x21cd1ce3e20>"
      ]
     },
     "execution_count": 78,
     "metadata": {},
     "output_type": "execute_result"
    },
    {
     "data": {
      "image/png": "[encoded data removed]",
      "text/plain": [
       "<Figure size 640x480 with 1 Axes>"
      ]
     },
     "metadata": {},
     "output_type": "display_data"
    }
   ],
   "source": [
    "# visualize data\n",
    "plt.scatter(df['YearsExperience'], df['Salary'])"
   ]
  },
  {
   "cell_type": "markdown",
   "metadata": {},
   "source": [
    "### OLS"
   ]
  },
  {
   "cell_type": "code",
   "execution_count": 79,
   "metadata": {},
   "outputs": [
    {
     "name": "stdout",
     "output_type": "stream",
     "text": [
      "c 24848.2039665232\n",
      "m 9449.962321455076\n"
     ]
    }
   ],
   "source": [
    "# calculate menas\n",
    "y_mean = np.mean(df['Salary'])\n",
    "x_mean = np.mean(df['YearsExperience'])\n",
    "\n",
    "# calculate m\n",
    "num = np.sum((df['Salary'] - y_mean) * (df['YearsExperience'] - x_mean))\n",
    "den = np.sum((df['YearsExperience'] - x_mean)**2)\n",
    "m_ols = num/den\n",
    "\n",
    "# calculate c\n",
    "c_ols = y_mean - m_ols * x_mean\n",
    "\n",
    "print('c', c_ols)\n",
    "print('m', m_ols)"
   ]
  },
  {
   "cell_type": "code",
   "execution_count": 80,
   "metadata": {},
   "outputs": [
    {
     "data": {
      "text/html": [
       "<div>\n",
       "<style scoped>\n",
       "    .dataframe tbody tr th:only-of-type {\n",
       "        vertical-align: middle;\n",
       "    }\n",
       "\n",
       "    .dataframe tbody tr th {\n",
       "        vertical-align: top;\n",
       "    }\n",
       "\n",
       "    .dataframe thead th {\n",
       "        text-align: right;\n",
       "    }\n",
       "</style>\n",
       "<table border=\"1\" class=\"dataframe\">\n",
       "  <thead>\n",
       "    <tr style=\"text-align: right;\">\n",
       "      <th></th>\n",
       "      <th>YearsExperience</th>\n",
       "      <th>Salary</th>\n",
       "      <th>ols_pred_sal</th>\n",
       "    </tr>\n",
       "  </thead>\n",
       "  <tbody>\n",
       "    <tr>\n",
       "      <th>13</th>\n",
       "      <td>4.2</td>\n",
       "      <td>57082.0</td>\n",
       "      <td>64538.045717</td>\n",
       "    </tr>\n",
       "    <tr>\n",
       "      <th>28</th>\n",
       "      <td>10.4</td>\n",
       "      <td>122392.0</td>\n",
       "      <td>123127.812110</td>\n",
       "    </tr>\n",
       "    <tr>\n",
       "      <th>22</th>\n",
       "      <td>8.0</td>\n",
       "      <td>101303.0</td>\n",
       "      <td>100447.902538</td>\n",
       "    </tr>\n",
       "    <tr>\n",
       "      <th>15</th>\n",
       "      <td>5.0</td>\n",
       "      <td>67939.0</td>\n",
       "      <td>72098.015574</td>\n",
       "    </tr>\n",
       "    <tr>\n",
       "      <th>29</th>\n",
       "      <td>10.6</td>\n",
       "      <td>121873.0</td>\n",
       "      <td>125017.804574</td>\n",
       "    </tr>\n",
       "  </tbody>\n",
       "</table>\n",
       "</div>"
      ],
      "text/plain": [
       "    YearsExperience    Salary   ols_pred_sal\n",
       "13              4.2   57082.0   64538.045717\n",
       "28             10.4  122392.0  123127.812110\n",
       "22              8.0  101303.0  100447.902538\n",
       "15              5.0   67939.0   72098.015574\n",
       "29             10.6  121873.0  125017.804574"
      ]
     },
     "execution_count": 80,
     "metadata": {},
     "output_type": "execute_result"
    }
   ],
   "source": [
    "# append predicted values\n",
    "df['ols_pred_sal'] = m_ols * df['YearsExperience'] + c_ols\n",
    "df.sample(5)"
   ]
  },
  {
   "cell_type": "code",
   "execution_count": 81,
   "metadata": {},
   "outputs": [
    {
     "name": "stdout",
     "output_type": "stream",
     "text": [
      "mae 4644.201289443536\n",
      "mse 31270951.722280946\n",
      "r2 0.9569566641435086\n",
      "rmse 5592.04360876066\n"
     ]
    }
   ],
   "source": [
    "# calculate metrics\n",
    "print('mae', mean_absolute_error(df['Salary'], df['ols_pred_sal']))\n",
    "print('mse', mean_squared_error(df['Salary'], df['ols_pred_sal']))\n",
    "print('r2', r2_score(df['Salary'], df['ols_pred_sal']))\n",
    "print('rmse', root_mean_squared_error(df['Salary'], df['ols_pred_sal']))\n"
   ]
  },
  {
   "cell_type": "markdown",
   "metadata": {},
   "source": [
    "### GD"
   ]
  },
  {
   "cell_type": "code",
   "execution_count": 82,
   "metadata": {},
   "outputs": [
    {
     "name": "stdout",
     "output_type": "stream",
     "text": [
      "c 24473.890458719936\n",
      "m 9504.894186274774\n"
     ]
    }
   ],
   "source": [
    "X = df['YearsExperience']\n",
    "Y = df['Salary']\n",
    "\n",
    "lr = 0.01\n",
    "m = 0  # Starting with m = 0\n",
    "c = 0  # Starting with c = 0\n",
    "\n",
    "ms = []\n",
    "cs = []\n",
    "errs = []\n",
    "\n",
    "for i in range(1000):\n",
    "    m_grad = 10\n",
    "    c_grad = 10\n",
    "    n = len(X)  # Number of data points\n",
    "    \n",
    "    # Calculate gradients based on the entire dataset\n",
    "    for j in range(n):\n",
    "        # Error is (Y - (m*X + c))^2\n",
    "        m_grad += -2 * X[j] * (Y[j] - (m * X[j] + c))  # Partial derivative wrt m\n",
    "        c_grad += -2 * (Y[j] - (m * X[j] + c))  # Partial derivative wrt c\n",
    "\n",
    "    # print(m_grad)\n",
    "    # Average gradients\n",
    "    m_grad /= n\n",
    "    c_grad /= n\n",
    "\n",
    "    # Store the current values of m, c, and total error\n",
    "    ms.append(m)\n",
    "    cs.append(c)\n",
    "    errs.append(sum([(Y[j] - (m * X[j] + c))**2 for j in range(n)]))\n",
    "\n",
    "    # Update m and c\n",
    "    m -= lr * m_grad\n",
    "    c -= lr * c_grad\n",
    "\n",
    "print('c', c)\n",
    "print('m', m)"
   ]
  },
  {
   "cell_type": "code",
   "execution_count": 83,
   "metadata": {},
   "outputs": [
    {
     "data": {
      "text/html": [
       "<div>\n",
       "<style scoped>\n",
       "    .dataframe tbody tr th:only-of-type {\n",
       "        vertical-align: middle;\n",
       "    }\n",
       "\n",
       "    .dataframe tbody tr th {\n",
       "        vertical-align: top;\n",
       "    }\n",
       "\n",
       "    .dataframe thead th {\n",
       "        text-align: right;\n",
       "    }\n",
       "</style>\n",
       "<table border=\"1\" class=\"dataframe\">\n",
       "  <thead>\n",
       "    <tr style=\"text-align: right;\">\n",
       "      <th></th>\n",
       "      <th>YearsExperience</th>\n",
       "      <th>Salary</th>\n",
       "      <th>ols_pred_sal</th>\n",
       "      <th>gd_pred_sal</th>\n",
       "    </tr>\n",
       "  </thead>\n",
       "  <tbody>\n",
       "    <tr>\n",
       "      <th>20</th>\n",
       "      <td>6.9</td>\n",
       "      <td>91739.0</td>\n",
       "      <td>90052.943985</td>\n",
       "      <td>90057.660344</td>\n",
       "    </tr>\n",
       "    <tr>\n",
       "      <th>26</th>\n",
       "      <td>9.6</td>\n",
       "      <td>116970.0</td>\n",
       "      <td>115567.842252</td>\n",
       "      <td>115720.874647</td>\n",
       "    </tr>\n",
       "    <tr>\n",
       "      <th>19</th>\n",
       "      <td>6.1</td>\n",
       "      <td>93941.0</td>\n",
       "      <td>82492.974127</td>\n",
       "      <td>82453.744995</td>\n",
       "    </tr>\n",
       "    <tr>\n",
       "      <th>21</th>\n",
       "      <td>7.2</td>\n",
       "      <td>98274.0</td>\n",
       "      <td>92887.932681</td>\n",
       "      <td>92909.128600</td>\n",
       "    </tr>\n",
       "    <tr>\n",
       "      <th>6</th>\n",
       "      <td>3.1</td>\n",
       "      <td>60151.0</td>\n",
       "      <td>54143.087163</td>\n",
       "      <td>53939.062436</td>\n",
       "    </tr>\n",
       "  </tbody>\n",
       "</table>\n",
       "</div>"
      ],
      "text/plain": [
       "    YearsExperience    Salary   ols_pred_sal    gd_pred_sal\n",
       "20              6.9   91739.0   90052.943985   90057.660344\n",
       "26              9.6  116970.0  115567.842252  115720.874647\n",
       "19              6.1   93941.0   82492.974127   82453.744995\n",
       "21              7.2   98274.0   92887.932681   92909.128600\n",
       "6               3.1   60151.0   54143.087163   53939.062436"
      ]
     },
     "execution_count": 83,
     "metadata": {},
     "output_type": "execute_result"
    }
   ],
   "source": [
    "# append predicted values\n",
    "df['gd_pred_sal'] = m * df['YearsExperience'] + c\n",
    "df.sample(5)"
   ]
  },
  {
   "cell_type": "code",
   "execution_count": 84,
   "metadata": {},
   "outputs": [
    {
     "name": "stdout",
     "output_type": "stream",
     "text": [
      "mae 4637.191464764421\n",
      "mse 31300364.655839052\n",
      "r2 0.9569161783025623\n",
      "rmse 5594.672881933228\n"
     ]
    }
   ],
   "source": [
    "# calculate metrics\n",
    "print('mae', mean_absolute_error(df['Salary'], df['gd_pred_sal']))\n",
    "print('mse', mean_squared_error(df['Salary'], df['gd_pred_sal']))\n",
    "print('r2', r2_score(df['Salary'], df['gd_pred_sal']))\n",
    "print('rmse', root_mean_squared_error(df['Salary'], df['gd_pred_sal']))\n"
   ]
  },
  {
   "cell_type": "markdown",
   "metadata": {},
   "source": [
    "### Visualize Prediction"
   ]
  },
  {
   "cell_type": "code",
   "execution_count": 89,
   "metadata": {},
   "outputs": [
    {
     "data": {
      "image/png": "[encoded data removed]",
      "text/plain": [
       "<Figure size 2000x1000 with 1 Axes>"
      ]
     },
     "metadata": {},
     "output_type": "display_data"
    }
   ],
   "source": [
    "plt.figure(figsize=(20, 10))\n",
    "plt.plot(df['YearsExperience'], df['ols_pred_sal'], alpha=0.3, color='green')\n",
    "plt.plot(df['YearsExperience'], df['gd_pred_sal'], alpha=0.3, color='red')\n",
    "plt.scatter(df['YearsExperience'], df['Salary'], alpha=0.3)\n",
    "plt.ylabel('Salary')\n",
    "plt.xlabel('Experience')\n",
    "plt.show()"
   ]
  }
 ],
 "metadata": {
  "kernelspec": {
   "display_name": "Python 3",
   "language": "python",
   "name": "python3"
  },
  "language_info": {
   "codemirror_mode": {
    "name": "ipython",
    "version": 3
   },
   "file_extension": ".py",
   "mimetype": "text/x-python",
   "name": "python",
   "nbconvert_exporter": "python",
   "pygments_lexer": "ipython3",
   "version": "3.10.0"
  }
 },
 "nbformat": 4,
 "nbformat_minor": 2
}
